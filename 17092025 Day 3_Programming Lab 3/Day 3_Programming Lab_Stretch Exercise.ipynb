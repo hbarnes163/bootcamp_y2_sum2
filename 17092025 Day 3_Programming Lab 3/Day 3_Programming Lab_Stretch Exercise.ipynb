{
 "cells": [
  {
   "cell_type": "markdown",
   "metadata": {},
   "source": [
    "# Day 3 Programming Lab\n",
    "\n",
    "## Stretch Exercise"
   ]
  },
  {
   "cell_type": "markdown",
   "metadata": {
    "id": "iaVq-T5ot5gB"
   },
   "source": [
    "**Task 1:** Use the NLTK POS tagger to print the TAGs of the following text.\n",
    "\n",
    "text = \"New York City is the most populous city in the United States.\"\n",
    "\n",
    "You are adviced to use the *pos_tag* method."
   ]
  },
  {
   "cell_type": "code",
   "execution_count": null,
   "metadata": {
    "colab": {
     "base_uri": "https://localhost:8080/",
     "height": 301
    },
    "id": "eaHxzzVMuCcV",
    "outputId": "f1319117-1144-43d1-f9b1-f2ef723ccb44"
   },
   "outputs": [
    {
     "name": "stdout",
     "output_type": "stream",
     "text": [
      "[nltk_data] Downloading package averaged_perceptron_tagger to\n",
      "[nltk_data]     /root/nltk_data...\n",
      "[nltk_data]   Unzipping taggers/averaged_perceptron_tagger.zip.\n"
     ]
    },
    {
     "data": {
      "text/plain": [
       "[('New', 'NNP'),\n",
       " ('York', 'NNP'),\n",
       " ('City', 'NNP'),\n",
       " ('is', 'VBZ'),\n",
       " ('the', 'DT'),\n",
       " ('most', 'RBS'),\n",
       " ('populous', 'JJ'),\n",
       " ('city', 'NN'),\n",
       " ('in', 'IN'),\n",
       " ('the', 'DT'),\n",
       " ('United', 'NNP'),\n",
       " ('States', 'NNPS'),\n",
       " ('.', '.')]"
      ]
     },
     "execution_count": 27,
     "metadata": {
      "tags": []
     },
     "output_type": "execute_result"
    }
   ],
   "source": [
    "# Provide your solution here\n",
    "\n"
   ]
  },
  {
   "cell_type": "markdown",
   "metadata": {
    "id": "S6qqn_0xune3"
   },
   "source": [
    "**Task 2:** Print the bigrams of the following text.\n",
    "\n",
    "text = \"NLKT is an awsome library\"\n"
   ]
  },
  {
   "cell_type": "code",
   "execution_count": null,
   "metadata": {
    "colab": {
     "base_uri": "https://localhost:8080/",
     "height": 35
    },
    "id": "y6t9wIBcunmV",
    "outputId": "a7dbe4f2-5cd9-4e25-a1d7-661f9c684808"
   },
   "outputs": [
    {
     "data": {
      "text/plain": [
       "[('NLKT', 'is'), ('is', 'an'), ('an', 'awsome'), ('awsome', 'library')]"
      ]
     },
     "execution_count": 28,
     "metadata": {
      "tags": []
     },
     "output_type": "execute_result"
    }
   ],
   "source": [
    "# Provide your solution here\n",
    "\n",
    "\n"
   ]
  },
  {
   "cell_type": "markdown",
   "metadata": {
    "id": "czDMUKBVvdRd"
   },
   "source": [
    "**Task 3:** Find the synonms of the word *cat* using the WordNet corpus and its *synset* library."
   ]
  },
  {
   "cell_type": "code",
   "execution_count": null,
   "metadata": {
    "colab": {
     "base_uri": "https://localhost:8080/"
    },
    "id": "M8W1MRiTvdWf",
    "outputId": "b16fc0dd-578b-4b3e-aa65-10f1476b59ed"
   },
   "outputs": [
    {
     "name": "stdout",
     "output_type": "stream",
     "text": [
      "[nltk_data] Downloading package wordnet to /root/nltk_data...\n",
      "[nltk_data]   Package wordnet is already up-to-date!\n"
     ]
    },
    {
     "data": {
      "text/plain": [
       "[Synset('information.n.01'),\n",
       " Synset('information.n.02'),\n",
       " Synset('information.n.03'),\n",
       " Synset('data.n.01'),\n",
       " Synset('information.n.05')]"
      ]
     },
     "execution_count": 4,
     "metadata": {
      "tags": []
     },
     "output_type": "execute_result"
    }
   ],
   "source": [
    "# Provide your solution here\n",
    "\n"
   ]
  }
 ],
 "metadata": {
  "colab": {
   "collapsed_sections": [],
   "name": "MODULE 3 EXERCISES QUESTIONS",
   "provenance": []
  },
  "kernelspec": {
   "display_name": "Python 3 (ipykernel)",
   "language": "python",
   "name": "python3"
  },
  "language_info": {
   "codemirror_mode": {
    "name": "ipython",
    "version": 3
   },
   "file_extension": ".py",
   "mimetype": "text/x-python",
   "name": "python",
   "nbconvert_exporter": "python",
   "pygments_lexer": "ipython3",
   "version": "3.12.7"
  }
 },
 "nbformat": 4,
 "nbformat_minor": 4
}
