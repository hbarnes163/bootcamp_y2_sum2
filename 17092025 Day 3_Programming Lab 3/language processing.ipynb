{
 "cells": [
  {
   "cell_type": "code",
   "execution_count": 2,
   "metadata": {},
   "outputs": [
    {
     "name": "stderr",
     "output_type": "stream",
     "text": [
      "[nltk_data] Downloading package averaged_perceptron_tagger_eng to\n",
      "[nltk_data]     C:\\Users\\339755\\AppData\\Roaming\\nltk_data...\n",
      "[nltk_data]   Package averaged_perceptron_tagger_eng is already up-to-\n",
      "[nltk_data]       date!\n",
      "[nltk_data] Downloading package punkt_tab to\n",
      "[nltk_data]     C:\\Users\\339755\\AppData\\Roaming\\nltk_data...\n",
      "[nltk_data]   Package punkt_tab is already up-to-date!\n",
      "[nltk_data] Downloading package punkt to\n",
      "[nltk_data]     C:\\Users\\339755\\AppData\\Roaming\\nltk_data...\n",
      "[nltk_data]   Package punkt is already up-to-date!\n"
     ]
    }
   ],
   "source": [
    "# Import the necessary libraries\n",
    "import nltk\n",
    "import urllib3\n",
    "import re\n",
    "from nltk.tokenize import word_tokenize, sent_tokenize\n",
    "import pandas as pd\n",
    "import spacy\n",
    "\n",
    "# Load the necessary NLTK resources and Spacy model\n",
    "nltk.download('averaged_perceptron_tagger_eng')\n",
    "nltk.download('punkt_tab')\n",
    "nltk.download('punkt')\n",
    "nlp = spacy.load(\"en_core_web_lg\")"
   ]
  },
  {
   "cell_type": "code",
   "execution_count": 3,
   "metadata": {},
   "outputs": [
    {
     "name": "stdout",
     "output_type": "stream",
     "text": [
      "Successfully set web config settings for urllib, urllib3, requests\n"
     ]
    }
   ],
   "source": [
    "# Internal packages for setting web proxy and BOE configuration, can skip if not using a Bank of England device\n",
    "import boewebconnectpy\n",
    "boewebconnectpy.set_boe_config()"
   ]
  },
  {
   "cell_type": "code",
   "execution_count": 4,
   "metadata": {},
   "outputs": [
    {
     "data": {
      "text/plain": [
       "200"
      ]
     },
     "execution_count": 4,
     "metadata": {},
     "output_type": "execute_result"
    }
   ],
   "source": [
    "r = urllib3.request(\"GET\", \"https://www.bankofengland.co.uk/stress-testing/2025/key-elements-bank-capital\", headers={\"User-Agent\": \"Mozilla/5.0\"})\n",
    "\n",
    "r.status"
   ]
  },
  {
   "cell_type": "code",
   "execution_count": 21,
   "metadata": {},
   "outputs": [],
   "source": [
    "def process_text(text, utf8=True):\n",
    "    if utf8:\n",
    "        text = text.decode('utf-8')\n",
    "    text = text.replace('\\n', ' ').replace('\\r', '').replace('\\t', '')\n",
    "    text = re.sub(r'<[^>]+>', '', text)\n",
    "    text = re.sub(r'{[^>]+}', '', text)\n",
    "    text = re.sub(r'\\s+', ' ', text)\n",
    "    text = re.sub(r'\\.(\\[a-zA-Z])', r'. \\1', text)\n",
    "    text  = sent_tokenize(text)\n",
    "    return text"
   ]
  },
  {
   "cell_type": "code",
   "execution_count": 35,
   "metadata": {},
   "outputs": [
    {
     "name": "stdout",
     "output_type": "stream",
     "text": [
      "Successfully fetched data from https://www.bankofengland.co.uk/stress-testing/2025/key-elements-bank-capital\n",
      "Successfully fetched data from https://www.bankofengland.co.uk/stress-testing/2024/stress-testing-uk-banking-system-scenarios-2024-desk-based\n",
      "Successfully fetched data from https://www.bankofengland.co.uk/financial-stability-report/2024/november-2024#section6\n",
      "Successfully fetched data from https://www.bankofengland.co.uk/stress-testing/2024/boes-approach-to-stress-testing-the-uk-banking-system\n"
     ]
    }
   ],
   "source": [
    "url_list = [\"https://www.bankofengland.co.uk/stress-testing/2025/key-elements-bank-capital\",\n",
    "            \"https://www.bankofengland.co.uk/stress-testing/2024/stress-testing-uk-banking-system-scenarios-2024-desk-based\",\n",
    "            \"https://www.bankofengland.co.uk/financial-stability-report/2024/november-2024#section6\",\n",
    "            \"https://www.bankofengland.co.uk/stress-testing/2024/boes-approach-to-stress-testing-the-uk-banking-system\"]\n",
    "\n",
    "all_data = pd.DataFrame(columns=['OriginalSentence', 'Source'])\n",
    "for url in url_list:\n",
    "    r = urllib3.request(\"GET\", url, headers={\"User-Agent\": \"Mozilla/5.0\"})\n",
    "    if r.status == 200:\n",
    "        print(f\"Successfully fetched data from {url}\")\n",
    "        sentences = process_text(r.data)\n",
    "        sentences.pop(0)\n",
    "        sentence_data = pd.DataFrame(sentences, columns=['OriginalSentence'])\n",
    "        sentence_data['Source'] = url\n",
    "        sentence_data['Line'] = sentence_data.index + 1\n",
    "        all_data = pd.concat([all_data, sentence_data], ignore_index=True)\n",
    "    else:\n",
    "        print(f\"Failed to fetch data from {url}, status code: {r.status}\")\n",
    "\n",
    "all_data = all_data.drop_duplicates().reset_index(drop=True)\n",
    "# Remove last line if contains it is 'Skip to main content'\n",
    "all_data = all_data[~all_data['OriginalSentence'].str.contains('Skip to main content', case=False, na=False)]\n"
   ]
  },
  {
   "cell_type": "code",
   "execution_count": 7,
   "metadata": {},
   "outputs": [
    {
     "name": "stdout",
     "output_type": "stream",
     "text": [
      "['a', 'about', 'above', 'after', 'again', 'against', 'ain', 'all', 'am', 'an', 'and', 'any', 'are', 'aren', \"aren't\", 'as', 'at', 'be', 'because', 'been', 'before', 'being', 'below', 'between', 'both', 'but', 'by', 'can', 'couldn', \"couldn't\", 'd', 'did', 'didn', \"didn't\", 'do', 'does', 'doesn', \"doesn't\", 'doing', 'don', \"don't\", 'down', 'during', 'each', 'few', 'for', 'from', 'further', 'had', 'hadn', \"hadn't\", 'has', 'hasn', \"hasn't\", 'have', 'haven', \"haven't\", 'having', 'he', \"he'd\", \"he'll\", 'her', 'here', 'hers', 'herself', \"he's\", 'him', 'himself', 'his', 'how', 'i', \"i'd\", 'if', \"i'll\", \"i'm\", 'in', 'into', 'is', 'isn', \"isn't\", 'it', \"it'd\", \"it'll\", \"it's\", 'its', 'itself', \"i've\", 'just', 'll', 'm', 'ma', 'me', 'mightn', \"mightn't\", 'more', 'most', 'mustn', \"mustn't\", 'my', 'myself', 'needn', \"needn't\", 'no', 'nor', 'not', 'now', 'o', 'of', 'off', 'on', 'once', 'only', 'or', 'other', 'our', 'ours', 'ourselves', 'out', 'over', 'own', 're', 's', 'same', 'shan', \"shan't\", 'she', \"she'd\", \"she'll\", \"she's\", 'should', 'shouldn', \"shouldn't\", \"should've\", 'so', 'some', 'such', 't', 'than', 'that', \"that'll\", 'the', 'their', 'theirs', 'them', 'themselves', 'then', 'there', 'these', 'they', \"they'd\", \"they'll\", \"they're\", \"they've\", 'this', 'those', 'through', 'to', 'too', 'under', 'until', 'up', 've', 'very', 'was', 'wasn', \"wasn't\", 'we', \"we'd\", \"we'll\", \"we're\", 'were', 'weren', \"weren't\", \"we've\", 'what', 'when', 'where', 'which', 'while', 'who', 'whom', 'why', 'will', 'with', 'won', \"won't\", 'wouldn', \"wouldn't\", 'y', 'you', \"you'd\", \"you'll\", 'your', \"you're\", 'yours', 'yourself', 'yourselves', \"you've\"]\n"
     ]
    }
   ],
   "source": [
    "stopwords = nltk.corpus.stopwords.words('english')\n",
    "len(stopwords)\n",
    "\n",
    "print(stopwords)"
   ]
  },
  {
   "cell_type": "code",
   "execution_count": 36,
   "metadata": {},
   "outputs": [
    {
     "data": {
      "text/html": [
       "<div>\n",
       "<style scoped>\n",
       "    .dataframe tbody tr th:only-of-type {\n",
       "        vertical-align: middle;\n",
       "    }\n",
       "\n",
       "    .dataframe tbody tr th {\n",
       "        vertical-align: top;\n",
       "    }\n",
       "\n",
       "    .dataframe thead th {\n",
       "        text-align: right;\n",
       "    }\n",
       "</style>\n",
       "<table border=\"1\" class=\"dataframe\">\n",
       "  <thead>\n",
       "    <tr style=\"text-align: right;\">\n",
       "      <th></th>\n",
       "      <th>OriginalSentence</th>\n",
       "      <th>Source</th>\n",
       "      <th>Line</th>\n",
       "      <th>WordCount</th>\n",
       "      <th>NoStopwords</th>\n",
       "    </tr>\n",
       "  </thead>\n",
       "  <tbody>\n",
       "    <tr>\n",
       "      <th>0</th>\n",
       "      <td>Stress testing is used by the Bank to determin...</td>\n",
       "      <td>https://www.bankofengland.co.uk/stress-testing...</td>\n",
       "      <td>1.0</td>\n",
       "      <td>29</td>\n",
       "      <td>Stress testing used Bank determine UK banking ...</td>\n",
       "    </tr>\n",
       "    <tr>\n",
       "      <th>1</th>\n",
       "      <td>By doing so the Bank aims to ensure banks can ...</td>\n",
       "      <td>https://www.bankofengland.co.uk/stress-testing...</td>\n",
       "      <td>2.0</td>\n",
       "      <td>82</td>\n",
       "      <td>Bank aims ensure banks absorb rather amplify s...</td>\n",
       "    </tr>\n",
       "    <tr>\n",
       "      <th>2</th>\n",
       "      <td>Rather, like previous concurrent stress test s...</td>\n",
       "      <td>https://www.bankofengland.co.uk/stress-testing...</td>\n",
       "      <td>3.0</td>\n",
       "      <td>58</td>\n",
       "      <td>Rather , like previous concurrent stress test ...</td>\n",
       "    </tr>\n",
       "    <tr>\n",
       "      <th>3</th>\n",
       "      <td>It is not a set of events that is expected, or...</td>\n",
       "      <td>https://www.bankofengland.co.uk/stress-testing...</td>\n",
       "      <td>4.0</td>\n",
       "      <td>17</td>\n",
       "      <td>set events expected , likely , materialise .</td>\n",
       "    </tr>\n",
       "    <tr>\n",
       "      <th>4</th>\n",
       "      <td>This tail risk scenario is used for the purpos...</td>\n",
       "      <td>https://www.bankofengland.co.uk/stress-testing...</td>\n",
       "      <td>5.0</td>\n",
       "      <td>23</td>\n",
       "      <td>tail risk scenario used purposes enhancing fin...</td>\n",
       "    </tr>\n",
       "  </tbody>\n",
       "</table>\n",
       "</div>"
      ],
      "text/plain": [
       "                                    OriginalSentence  \\\n",
       "0  Stress testing is used by the Bank to determin...   \n",
       "1  By doing so the Bank aims to ensure banks can ...   \n",
       "2  Rather, like previous concurrent stress test s...   \n",
       "3  It is not a set of events that is expected, or...   \n",
       "4  This tail risk scenario is used for the purpos...   \n",
       "\n",
       "                                              Source  Line  WordCount  \\\n",
       "0  https://www.bankofengland.co.uk/stress-testing...   1.0         29   \n",
       "1  https://www.bankofengland.co.uk/stress-testing...   2.0         82   \n",
       "2  https://www.bankofengland.co.uk/stress-testing...   3.0         58   \n",
       "3  https://www.bankofengland.co.uk/stress-testing...   4.0         17   \n",
       "4  https://www.bankofengland.co.uk/stress-testing...   5.0         23   \n",
       "\n",
       "                                         NoStopwords  \n",
       "0  Stress testing used Bank determine UK banking ...  \n",
       "1  Bank aims ensure banks absorb rather amplify s...  \n",
       "2  Rather , like previous concurrent stress test ...  \n",
       "3       set events expected , likely , materialise .  \n",
       "4  tail risk scenario used purposes enhancing fin...  "
      ]
     },
     "execution_count": 36,
     "metadata": {},
     "output_type": "execute_result"
    }
   ],
   "source": [
    "all_data[\"WordCount\"] = all_data['OriginalSentence'].apply(lambda x: len(word_tokenize(x)))\n",
    "all_data[\"NoStopwords\"] = all_data['OriginalSentence'].apply(lambda x: ' '.join([word for word in word_tokenize(x) if word.lower() not in stopwords]))\n",
    "\n",
    "all_data = all_data[all_data['WordCount'] < 100]\n",
    "all_data = all_data[all_data['OriginalSentence'] != 'Measuring the stability of the banking system: capital and liquidity at risk with solvency-liquidity...']\n",
    "\n",
    "all_data.head()"
   ]
  },
  {
   "cell_type": "code",
   "execution_count": 29,
   "metadata": {},
   "outputs": [],
   "source": [
    "# Read in a file containing text to be tested against\n",
    "test = open(\"Stress Test 2026.txt\", \"r\")\n",
    "test_data = test.read()\n",
    "test.close()\n",
    "\n",
    "test = process_text(test_data, utf8=False)\n",
    "test_df = pd.DataFrame(test, columns=['OriginalSentence'])\n",
    "test_df = test_df.head()"
   ]
  },
  {
   "cell_type": "code",
   "execution_count": 30,
   "metadata": {},
   "outputs": [],
   "source": [
    "def check_similarity(sentence, all_data, min_threshold=0.75, perfect_threshold = 0.9, stopword = False):\n",
    "    if stopword == False:\n",
    "        sentence = sentence.join([word for word in word_tokenize(sentence) if word.lower() not in stopwords])\n",
    "    doc1 = nlp(sentence)\n",
    "    max_similarity = 0\n",
    "    for idx, row in all_data.iterrows():\n",
    "        if stopword == False:\n",
    "            doc2 = nlp(row['NoStopwords'])\n",
    "        else:\n",
    "            doc2 = nlp(row['OriginalSentence'])\n",
    "        similarity = doc1.similarity(doc2)\n",
    "        if similarity > max_similarity:\n",
    "            max_similarity = similarity\n",
    "            if max_similarity >= perfect_threshold and max_similarity > min_threshold:\n",
    "                Similar = row['OriginalSentence']\n",
    "                SimilarSource = row['Source']\n",
    "                SimilarLine = row['Line']\n",
    "                SimilarityScore = max_similarity\n",
    "                break\n",
    "    if max_similarity > min_threshold:\n",
    "        Similar = row['OriginalSentence']\n",
    "        SimilarSource = row['Source']\n",
    "        SimilarLine = row['Line']\n",
    "        SimilarityScore = max_similarity\n",
    "    else:\n",
    "        Similar = \"None found\"\n",
    "        SimilarSource = None\n",
    "        SimilarLine = None\n",
    "        SimilarityScore = None\n",
    "    return Similar, SimilarSource, SimilarLine, SimilarityScore"
   ]
  },
  {
   "cell_type": "code",
   "execution_count": 31,
   "metadata": {},
   "outputs": [],
   "source": [
    "test_df[[\"Similar\", \"SimilarSource\", \"SimilarLine\", \"SimilarityScore\"]] = test_df['OriginalSentence'].apply(lambda x: check_similarity(x, all_data, min_threshold=0.8, perfect_threshold=0.98)).apply(pd.Series)"
   ]
  },
  {
   "cell_type": "code",
   "execution_count": null,
   "metadata": {},
   "outputs": [],
   "source": [
    "# Extract out numbers\n",
    "test_df['OriginalNumeric'] = test_df['OriginalSentence'].apply(lambda x: nltk.pos_tag(word_tokenize(x))).apply(lambda x: ' '.join([word for word, pos in x if pos in ['CD']]))\n",
    "test_df['SimilarNumeric'] = test_df['Similar'].apply(lambda x: nltk.pos_tag(word_tokenize(x))).apply(lambda x: ' '.join([word for word, pos in x if pos in ['CD']]))"
   ]
  },
  {
   "cell_type": "code",
   "execution_count": null,
   "metadata": {},
   "outputs": [
    {
     "data": {
      "text/plain": [
       "[('The', 'DT'),\n",
       " ('bank', 'NN'),\n",
       " ('has', 'VBZ'),\n",
       " ('£50', 'VBN'),\n",
       " ('billion', 'CD'),\n",
       " ('in', 'IN'),\n",
       " ('assets', 'NNS'),\n",
       " ('and', 'CC'),\n",
       " ('20', 'CD'),\n",
       " ('million', 'CD'),\n",
       " ('customers', 'NNS'),\n",
       " ('.', '.')]"
      ]
     },
     "execution_count": 49,
     "metadata": {},
     "output_type": "execute_result"
    }
   ],
   "source": [
    "nltk.pos_tag(word_tokenize(\"The bank has £50 billion in assets and 20 million customers.\"))\n"
   ]
  }
 ],
 "metadata": {
  "kernelspec": {
   "display_name": "uni",
   "language": "python",
   "name": "python3"
  },
  "language_info": {
   "codemirror_mode": {
    "name": "ipython",
    "version": 3
   },
   "file_extension": ".py",
   "mimetype": "text/x-python",
   "name": "python",
   "nbconvert_exporter": "python",
   "pygments_lexer": "ipython3",
   "version": "3.9.21"
  }
 },
 "nbformat": 4,
 "nbformat_minor": 2
}
