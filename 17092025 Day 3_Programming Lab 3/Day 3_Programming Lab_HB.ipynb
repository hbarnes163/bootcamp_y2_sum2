{
 "cells": [
  {
   "cell_type": "markdown",
   "id": "ce541945",
   "metadata": {},
   "source": [
    "# Day 3 Programming Lab"
   ]
  },
  {
   "cell_type": "markdown",
   "id": "cfafaefb",
   "metadata": {},
   "source": [
    "The following exercises will not count towards your course mark, but they provide you with an opportunity to receive feedback on your programming skills in advance of you completing your summative assignments.\n",
    "\n",
    "The goal of the following exercises is to make you apply the concepts and general methods seen in Day 3\n",
    "of the Bootcamp and develop Python scripts to perform NLP tasks."
   ]
  },
  {
   "cell_type": "markdown",
   "id": "439e4cb7",
   "metadata": {},
   "source": [
    "# Exercises"
   ]
  },
  {
   "cell_type": "markdown",
   "id": "be06bb49",
   "metadata": {},
   "source": [
    "Create a for loop to count the characters of the following text\n",
    "\n",
    "text = \"NLTK is really cool!\""
   ]
  },
  {
   "cell_type": "code",
   "execution_count": 1,
   "id": "9be54eab",
   "metadata": {},
   "outputs": [
    {
     "name": "stdout",
     "output_type": "stream",
     "text": [
      "The length of the text is: 20\n"
     ]
    }
   ],
   "source": [
    "text = \"NLTK is really cool!\"\n",
    "\n",
    "count = 0\n",
    "for char in text:\n",
    "    count += 1\n",
    "\n",
    "print(\"The length of the text is:\", count)"
   ]
  },
  {
   "cell_type": "markdown",
   "id": "828e68ea",
   "metadata": {},
   "source": [
    "Create a function to count the number of words that start with a given letter. Use the function to print the number of words that start with the letter \"c\" using the text variable. Feel free to look online and use the following\n",
    "\n",
    "* Regular expressions link: https://www.w3schools.com/python/python_regex.asp\n",
    "* Use the re.search() method\n",
    "* Use the split method to create the tokens\n",
    "* You can implement the function without using a regex library"
   ]
  },
  {
   "cell_type": "code",
   "execution_count": 15,
   "id": "d24adb0e",
   "metadata": {},
   "outputs": [
    {
     "name": "stdout",
     "output_type": "stream",
     "text": [
      "The number of words starting with 'c' is: 2\n",
      "The number of words starting with 'c' is: 2\n"
     ]
    }
   ],
   "source": [
    "text = \"\"\"Two households, both alike in dignity, In fair Verona, \n",
    "          where we lay our scene, From ancient grudge break to new mutiny, \n",
    "          Where civil blood makes civil hands unclean.\"\"\"\n",
    "\n",
    "import re\n",
    "\n",
    "texts = text.split()\n",
    "\n",
    "count = 0\n",
    "for word in texts:\n",
    "    c = re.search(\"c\", word)\n",
    "    if c != None:\n",
    "        if c.span()[0] == 0:\n",
    "            count += 1\n",
    "print(\"The number of words starting with 'c' is:\", count)\n",
    "\n",
    "count = 0\n",
    "for word in texts:\n",
    "    if word.startswith(\"c\"):\n",
    "        count += 1\n",
    "\n",
    "print(\"The number of words starting with 'c' is:\", count)"
   ]
  },
  {
   "cell_type": "markdown",
   "id": "99002a1b",
   "metadata": {},
   "source": [
    "Use the NLKT *word_tokenize* method to count the words of the following text\n",
    "\n",
    "text = \"NLTK is really cool!\""
   ]
  },
  {
   "cell_type": "code",
   "execution_count": 17,
   "id": "f38eb4ba",
   "metadata": {},
   "outputs": [
    {
     "data": {
      "text/plain": [
       "5"
      ]
     },
     "execution_count": 17,
     "metadata": {},
     "output_type": "execute_result"
    }
   ],
   "source": [
    "from nltk import word_tokenize\n",
    "import nltk\n",
    "\n",
    "text = \"NLTK is really cool!\"\n",
    "\n",
    "len(word_tokenize(text))"
   ]
  },
  {
   "cell_type": "markdown",
   "id": "bb9dca6d",
   "metadata": {},
   "source": [
    "Use the NLKT gutenberg.words method to count the unique words of the following text of the gutenberg Corpus\n",
    "\n",
    "book = shakespeare-macbeth.tx"
   ]
  },
  {
   "cell_type": "code",
   "execution_count": 20,
   "id": "322b6d07",
   "metadata": {},
   "outputs": [
    {
     "name": "stderr",
     "output_type": "stream",
     "text": [
      "[nltk_data] Downloading package gutenberg to\n",
      "[nltk_data]     C:\\Users\\339755\\AppData\\Roaming\\nltk_data...\n",
      "[nltk_data]   Package gutenberg is already up-to-date!\n"
     ]
    },
    {
     "data": {
      "text/plain": [
       "4017"
      ]
     },
     "execution_count": 20,
     "metadata": {},
     "output_type": "execute_result"
    }
   ],
   "source": [
    "nltk.download('gutenberg')\n",
    "from nltk.corpus import gutenberg\n",
    "\n",
    "macbeth = gutenberg.words('shakespeare-macbeth.txt')\n",
    "\n",
    "unique_words = []\n",
    "for word in macbeth:\n",
    "    if word not in unique_words:\n",
    "        unique_words.append(word)\n",
    "    else:\n",
    "        continue\n",
    "\n",
    "len(unique_words)"
   ]
  },
  {
   "cell_type": "markdown",
   "id": "ccf42eb0",
   "metadata": {},
   "source": [
    "## Word Frequency"
   ]
  },
  {
   "cell_type": "code",
   "execution_count": 21,
   "id": "88ea9052",
   "metadata": {},
   "outputs": [
    {
     "name": "stdout",
     "output_type": "stream",
     "text": [
      "{'London': 2, 'is': 1, 'a': 1, 'most': 2}\n"
     ]
    }
   ],
   "source": [
    "# Run and analyse the following commands to create a dictionary containing:\n",
    "# words as keys and a counter showing how many times a word appeared in a text frequency\n",
    "\n",
    "text = \"\"\"London is a London most most\"\"\"\n",
    "\n",
    "# Create an empty dictionary\n",
    "word_freq = dict()\n",
    "\n",
    "# Transform the corpus to a string and then\n",
    "# split the corpus variable to words\n",
    "\n",
    "corpus_word = str(text).split()\n",
    "for index in range(len(corpus_word)):\n",
    "    if corpus_word[index] not in word_freq:\n",
    "        word_freq[corpus_word[index]] = 1\n",
    "    else:\n",
    "        word_freq[corpus_word[index]] += 1\n",
    "print(word_freq)"
   ]
  },
  {
   "cell_type": "markdown",
   "id": "00de1b90",
   "metadata": {},
   "source": [
    "Use the \"word_tokenize\" method to trasnform a text to a list of words."
   ]
  },
  {
   "cell_type": "code",
   "execution_count": 22,
   "id": "fcaf3d21",
   "metadata": {},
   "outputs": [
    {
     "name": "stderr",
     "output_type": "stream",
     "text": [
      "[nltk_data] Downloading package punkt to\n",
      "[nltk_data]     C:\\Users\\339755\\AppData\\Roaming\\nltk_data...\n",
      "[nltk_data]   Package punkt is already up-to-date!\n"
     ]
    },
    {
     "data": {
      "text/plain": [
       "['Analytic', 'Tools', 'for', 'Data', 'Science']"
      ]
     },
     "execution_count": 22,
     "metadata": {},
     "output_type": "execute_result"
    }
   ],
   "source": [
    "import nltk\n",
    "from nltk import word_tokenize\n",
    "nltk.download('punkt')\n",
    "\n",
    "text = 'Analytic Tools for Data Science'\n",
    "\n",
    "word_tokenize(text)"
   ]
  },
  {
   "cell_type": "markdown",
   "id": "737d8b73",
   "metadata": {},
   "source": [
    "Download the Guteneberg coprus.\n",
    "\n",
    "Print the list of books provided with the gutenber corpus.\n",
    "\n",
    "* The Project Gutenberg electronic text archive, which contains some 25,000 free electronic books, hosted at http://www.gutenberg.org/."
   ]
  },
  {
   "cell_type": "code",
   "execution_count": 24,
   "id": "c1770686",
   "metadata": {},
   "outputs": [
    {
     "data": {
      "text/plain": [
       "['austen-emma.txt',\n",
       " 'austen-persuasion.txt',\n",
       " 'austen-sense.txt',\n",
       " 'bible-kjv.txt',\n",
       " 'blake-poems.txt',\n",
       " 'bryant-stories.txt',\n",
       " 'burgess-busterbrown.txt',\n",
       " 'carroll-alice.txt',\n",
       " 'chesterton-ball.txt',\n",
       " 'chesterton-brown.txt',\n",
       " 'chesterton-thursday.txt',\n",
       " 'edgeworth-parents.txt',\n",
       " 'melville-moby_dick.txt',\n",
       " 'milton-paradise.txt',\n",
       " 'shakespeare-caesar.txt',\n",
       " 'shakespeare-hamlet.txt',\n",
       " 'shakespeare-macbeth.txt',\n",
       " 'whitman-leaves.txt']"
      ]
     },
     "execution_count": 24,
     "metadata": {},
     "output_type": "execute_result"
    }
   ],
   "source": [
    "nltk.corpus.gutenberg.fileids()"
   ]
  },
  {
   "cell_type": "markdown",
   "id": "e9a2cb88",
   "metadata": {},
   "source": [
    "What is the total number of words written in the shakespeare-caesar.txt file?"
   ]
  },
  {
   "cell_type": "code",
   "execution_count": 28,
   "id": "bde079e6",
   "metadata": {},
   "outputs": [
    {
     "data": {
      "text/plain": [
       "25833"
      ]
     },
     "execution_count": 28,
     "metadata": {},
     "output_type": "execute_result"
    }
   ],
   "source": [
    "caesar = nltk.corpus.gutenberg.words('shakespeare-caesar.txt')\n",
    "\n",
    "len(caesar)"
   ]
  },
  {
   "cell_type": "markdown",
   "id": "c3e85494",
   "metadata": {},
   "source": [
    "Transform the macbeth text in an NLTK Text object. Use the concordance method to print the **concordances** of the word \"caesar\" using the caesar text."
   ]
  },
  {
   "cell_type": "code",
   "execution_count": 31,
   "id": "f8b50001",
   "metadata": {},
   "outputs": [
    {
     "name": "stdout",
     "output_type": "stream",
     "text": [
      "Displaying 25 of 190 matches:\n",
      "           [ The Tragedie of Julius Caesar by William Shakespeare 1599 ] Actus\n",
      "ndeede sir , we make Holyday to see Caesar , and to reioyce in his Triumph Mur\n",
      "uile fearefulnesse . Exeunt . Enter Caesar , Antony for the Course , Calphurni\n",
      "Caes . Calphurnia Cask . Peace ho , Caesar speakes Caes . Calphurnia Calp . He\n",
      "curse Ant . I shall remember , When Caesar sayes , Do this ; it is perform ' d\n",
      ", and leaue no Ceremony out Sooth . Caesar Caes . Ha ? Who calles ? Cask . Bid\n",
      "shriller then all the Musicke Cry , Caesar : Speake , Caesar is turn ' d to he\n",
      "the Musicke Cry , Caesar : Speake , Caesar is turn ' d to heare Sooth . Beware\n",
      " , come from the throng , look vpon Caesar Caes . What sayst thou to me now ? \n",
      "espect in Rome , ( Except immortall Caesar ) speaking of Brutus , And groaning\n",
      "ng ? I do feare , the People choose Caesar For their King Cassi . I , do you f\n",
      "as I my selfe . I was borne free as Caesar , so were you , We both haue fed as\n",
      "d Tyber , chafing with her Shores , Caesar saide to me , Dar ' st thou Cassius\n",
      "could arriue the Point propos ' d , Caesar cride , Helpe me Cassius , or I sin\n",
      " the waues of Tyber Did I the tyred Caesar : And this Man , Is now become a Go\n",
      "ature , and must bend his body , If Caesar carelesly but nod on him . He had a\n",
      "e new Honors , that are heap ' d on Caesar Cassi . Why man , he doth bestride \n",
      "that we are vnderlings . Brutus and Caesar : What should be in that Caesar ? W\n",
      "and Caesar : What should be in that Caesar ? Why should that name be sounded m\n",
      "tus will start a Spirit as soone as Caesar . Now in the names of all the Gods \n",
      "nce , Vpon what meate doth this our Caesar feede , That he is growne so great \n",
      "ch shew of fire from Brutus , Enter Caesar and his Traine . Bru . The Games ar\n",
      "ne . Bru . The Games are done , And Caesar is returning Cassi . As they passe \n",
      "at the matter is Caes Antonio Ant . Caesar Caes Let me haue men about me , tha\n",
      "n are dangerous Ant . Feare him not Caesar , he ' s not dangerous , He is a No\n"
     ]
    }
   ],
   "source": [
    "caesar = nltk.text.Text(caesar)\n",
    "caesar.concordance('caesar')"
   ]
  },
  {
   "cell_type": "markdown",
   "id": "eae61a6f",
   "metadata": {},
   "source": [
    "Use \"sents\" method to find the number of sentences in shakespeare-caesar.txt"
   ]
  },
  {
   "cell_type": "code",
   "execution_count": 33,
   "id": "959e640c",
   "metadata": {},
   "outputs": [
    {
     "data": {
      "text/plain": [
       "2163"
      ]
     },
     "execution_count": 33,
     "metadata": {},
     "output_type": "execute_result"
    }
   ],
   "source": [
    "len(nltk.corpus.gutenberg.sents('shakespeare-caesar.txt'))"
   ]
  },
  {
   "cell_type": "markdown",
   "id": "8aa1a124",
   "metadata": {},
   "source": [
    "Run the following command to download and import the books corpus"
   ]
  },
  {
   "cell_type": "code",
   "execution_count": null,
   "id": "2648c9dc",
   "metadata": {},
   "outputs": [],
   "source": [
    "import nltk\n",
    "nltk.download('book')\n",
    "from nltk.book import *"
   ]
  },
  {
   "cell_type": "markdown",
   "id": "f2b7ec57",
   "metadata": {},
   "source": [
    "What is text1 about? Run the following command.\n"
   ]
  },
  {
   "cell_type": "code",
   "execution_count": 12,
   "id": "3028b5ef",
   "metadata": {},
   "outputs": [
    {
     "data": {
      "text/plain": [
       "<Text: Moby Dick by Herman Melville 1851>"
      ]
     },
     "execution_count": 12,
     "metadata": {},
     "output_type": "execute_result"
    }
   ],
   "source": [
    "text1"
   ]
  },
  {
   "cell_type": "markdown",
   "id": "2b2cf767",
   "metadata": {},
   "source": [
    "Use the concordance method to find the concordance of the words \"Monwtrous\" and \"size\" in the Moby Dick text.\n",
    "\n",
    "Hint: pass the two words as a list to the concordance method"
   ]
  },
  {
   "cell_type": "code",
   "execution_count": null,
   "id": "624f83cd",
   "metadata": {},
   "outputs": [],
   "source": [
    "# Provide your solution here"
   ]
  },
  {
   "cell_type": "markdown",
   "id": "4be2cc3f",
   "metadata": {},
   "source": [
    "Use the collocations method to print the collocations for text5"
   ]
  },
  {
   "cell_type": "code",
   "execution_count": null,
   "id": "9ae19fec",
   "metadata": {},
   "outputs": [],
   "source": [
    "# Provide your solution here"
   ]
  },
  {
   "cell_type": "markdown",
   "id": "3f32d7c4",
   "metadata": {},
   "source": [
    "Run the following command to create a dispersion plot diagram for the word whale using the Moby Dick text."
   ]
  },
  {
   "cell_type": "code",
   "execution_count": 50,
   "id": "e4975c61",
   "metadata": {},
   "outputs": [
    {
     "data": {
      "image/png": "[encoded data removed]",
      "text/plain": [
       "<Figure size 432x288 with 1 Axes>"
      ]
     },
     "metadata": {
      "needs_background": "light"
     },
     "output_type": "display_data"
    }
   ],
   "source": [
    "text1.dispersion_plot(['whale'])"
   ]
  },
  {
   "cell_type": "markdown",
   "id": "6d5efd9d",
   "metadata": {},
   "source": [
    "Create a dispersion plot diagram using the words JOIN, chat and Player using the chat corpus.\n",
    "\n",
    "Hint: Create a list containg the three words then pass the list to the dispersion_plot method"
   ]
  },
  {
   "cell_type": "code",
   "execution_count": null,
   "id": "091acc72",
   "metadata": {},
   "outputs": [],
   "source": [
    "# Provide your solution here"
   ]
  },
  {
   "cell_type": "markdown",
   "id": "9e51f8b0",
   "metadata": {},
   "source": [
    " Print all the words in the Moby Dick text longer than 16 characters"
   ]
  },
  {
   "cell_type": "code",
   "execution_count": null,
   "id": "04b95e45",
   "metadata": {},
   "outputs": [],
   "source": [
    "# Provide your solution here"
   ]
  },
  {
   "cell_type": "markdown",
   "id": "47118ff9",
   "metadata": {},
   "source": [
    "Run the following command to download the stopwords in English"
   ]
  },
  {
   "cell_type": "code",
   "execution_count": null,
   "id": "bf9493c0",
   "metadata": {},
   "outputs": [],
   "source": [
    "stopwords = nltk.corpus.stopwords.words('english')"
   ]
  },
  {
   "cell_type": "markdown",
   "id": "5dc3bb6f",
   "metadata": {},
   "source": [
    "Print the first 10 stopwords in English"
   ]
  },
  {
   "cell_type": "code",
   "execution_count": null,
   "id": "d16349b7",
   "metadata": {},
   "outputs": [],
   "source": [
    "# Provide your solution here"
   ]
  },
  {
   "cell_type": "markdown",
   "id": "c05ba73b",
   "metadata": {},
   "source": [
    "**Let us use the Pirates of the Carribean dataset, to find how many times the word \"crew\" exists in our data.**\n",
    "\n",
    "To make analysis easier, we can clean our dataset from any stopwords. \n",
    "\n",
    "To run this task there are a series of steps that you will need to perform including:\n",
    "\n",
    "Importing the webtext, that includes the pirates.txt file\n",
    "\n",
    "Create a frequency distribution dictionary, excluding the stopwords"
   ]
  },
  {
   "cell_type": "code",
   "execution_count": null,
   "id": "1196c869",
   "metadata": {},
   "outputs": [],
   "source": [
    "# Provide your solution here"
   ]
  },
  {
   "cell_type": "markdown",
   "id": "39bb4ece",
   "metadata": {},
   "source": [
    "Create the sentence tokenizer.\n",
    "\n",
    "Use the following text to extract a list of sentences using the sent_tokenize method."
   ]
  },
  {
   "cell_type": "code",
   "execution_count": 18,
   "id": "2c12ccf4",
   "metadata": {},
   "outputs": [
    {
     "name": "stdout",
     "output_type": "stream",
     "text": [
      "['Athens is the capital and largest city of Greece.', \"It dominates the Attica region and is one of the world's oldest cities, with its recorded history spanning over 3,400 years.\", 'Classical Athens was a powerful city-state.']\n"
     ]
    },
    {
     "name": "stderr",
     "output_type": "stream",
     "text": [
      "[nltk_data] Downloading package punkt to\n",
      "[nltk_data]     C:\\Users\\malik\\AppData\\Roaming\\nltk_data...\n",
      "[nltk_data]   Package punkt is already up-to-date!\n"
     ]
    }
   ],
   "source": [
    "import nltk\n",
    "nltk.download('punkt') # Install Punkt corpus (required by the sent_tokenize)\n",
    "\n",
    "text = \"\"\"Athens is the capital and largest city of Greece. It dominates the Attica region and is one of the world's oldest cities, with its recorded history spanning over 3,400 years. Classical Athens was a powerful city-state. \"\"\"\n",
    "\n",
    "\n",
    "from nltk.tokenize import sent_tokenize\n",
    "\n",
    "# Please provide your solution here"
   ]
  },
  {
   "cell_type": "markdown",
   "id": "13e834bd",
   "metadata": {},
   "source": [
    "How many sentences are in the text?"
   ]
  },
  {
   "cell_type": "code",
   "execution_count": 19,
   "id": "04b59b36",
   "metadata": {},
   "outputs": [
    {
     "data": {
      "text/plain": [
       "3"
      ]
     },
     "execution_count": 19,
     "metadata": {},
     "output_type": "execute_result"
    }
   ],
   "source": [
    "# Please provide your solution here"
   ]
  },
  {
   "cell_type": "markdown",
   "id": "c5f93f88",
   "metadata": {},
   "source": [
    "Create the word tokens for each sentence.\n",
    "\n",
    "Use the the word_tokenize method to extract the words (tokens) of the first sentence (Athens is the capital and largest city of Greece.)."
   ]
  },
  {
   "cell_type": "code",
   "execution_count": 20,
   "id": "7eb446e3",
   "metadata": {},
   "outputs": [
    {
     "name": "stdout",
     "output_type": "stream",
     "text": [
      "['Athens', 'is', 'the', 'capital', 'and', 'largest', 'city', 'of', 'Greece', '.']\n"
     ]
    }
   ],
   "source": [
    "from nltk.tokenize import word_tokenize\n",
    "# Please provide your solution here"
   ]
  },
  {
   "cell_type": "markdown",
   "id": "6db6c56a",
   "metadata": {},
   "source": [
    "How many words are in the first sentence?"
   ]
  },
  {
   "cell_type": "code",
   "execution_count": 21,
   "id": "1625d2f2",
   "metadata": {},
   "outputs": [
    {
     "data": {
      "text/plain": [
       "10"
      ]
     },
     "execution_count": 21,
     "metadata": {},
     "output_type": "execute_result"
    }
   ],
   "source": [
    "# Please provide your solution here"
   ]
  },
  {
   "cell_type": "markdown",
   "id": "f5461574",
   "metadata": {},
   "source": [
    "Let's examine the part of speech for the first sentence. Use the Part of Speech tagger \"pos_tag\" method to print the tag for each word (token) in the first sentence."
   ]
  },
  {
   "cell_type": "code",
   "execution_count": 22,
   "id": "b782e4d3",
   "metadata": {},
   "outputs": [
    {
     "name": "stderr",
     "output_type": "stream",
     "text": [
      "[nltk_data] Downloading package averaged_perceptron_tagger to\n",
      "[nltk_data]     C:\\Users\\malik\\AppData\\Roaming\\nltk_data...\n",
      "[nltk_data]   Package averaged_perceptron_tagger is already up-to-\n",
      "[nltk_data]       date!\n"
     ]
    },
    {
     "data": {
      "text/plain": [
       "[('Athens', 'NNS'),\n",
       " ('is', 'VBZ'),\n",
       " ('the', 'DT'),\n",
       " ('capital', 'NN'),\n",
       " ('and', 'CC'),\n",
       " ('largest', 'JJS'),\n",
       " ('city', 'NN'),\n",
       " ('of', 'IN'),\n",
       " ('Greece', 'NNP'),\n",
       " ('.', '.')]"
      ]
     },
     "execution_count": 22,
     "metadata": {},
     "output_type": "execute_result"
    }
   ],
   "source": [
    "nltk.download('averaged_perceptron_tagger')\n",
    "# Please provide your solution here"
   ]
  },
  {
   "cell_type": "markdown",
   "id": "074ec8f6",
   "metadata": {},
   "source": [
    "Click on the following link to understand the meanings of some of the tags: https://www.guru99.com/pos-tagging-chunking-nltk.html\n",
    "    "
   ]
  },
  {
   "cell_type": "markdown",
   "id": "7ab4616d",
   "metadata": {},
   "source": [
    "Remove the stop words from the first sentence and store the words into a new list called filtered_sentence."
   ]
  },
  {
   "cell_type": "code",
   "execution_count": 45,
   "id": "70d0a2ec",
   "metadata": {},
   "outputs": [
    {
     "name": "stdout",
     "output_type": "stream",
     "text": [
      "['Athens', 'is', 'the', 'capital', 'and', 'largest', 'city', 'of', 'Greece', '.']\n",
      "['Athens', 'capital', 'largest', 'city', 'Greece', '.']\n"
     ]
    },
    {
     "name": "stderr",
     "output_type": "stream",
     "text": [
      "[nltk_data] Downloading package stopwords to\n",
      "[nltk_data]     C:\\Users\\malik\\AppData\\Roaming\\nltk_data...\n",
      "[nltk_data]   Package stopwords is already up-to-date!\n"
     ]
    }
   ],
   "source": [
    "# Please provide your solution here"
   ]
  },
  {
   "cell_type": "markdown",
   "id": "84e0eabb",
   "metadata": {},
   "source": [
    "## Python Regular Expressions"
   ]
  },
  {
   "cell_type": "markdown",
   "id": "53f5049d",
   "metadata": {},
   "source": [
    "Regular expressions are a powerful language for matching text patterns.\n",
    "This page gives a basic introduction to regular expressions themselves\n",
    "sufficient for our Python exercises and shows how regular expressions\n",
    "work in Python. The Python \"re\" module provides regular expression\n",
    "support.\n",
    "\n",
    "In Python a regular expression search is typically written as:\n",
    "\n",
    "``` python\n",
    "import re\n",
    "match = re.search(pat, str)\n",
    "```"
   ]
  },
  {
   "cell_type": "markdown",
   "id": "7ac286b6",
   "metadata": {
    "id": "mYOYdzB83glE"
   },
   "source": [
    "The re.search() method takes a regular expression pattern and a string\n",
    "and searches for that pattern within the string. If the search is\n",
    "successful, search() returns a match object or None otherwise.\n",
    "Therefore, the search is usually immediately followed by an if-statement\n",
    "to test if the search succeeded, as shown in the following example which\n",
    "searches for the pattern 'word:' followed by a 3 letter word (details\n",
    "below):"
   ]
  },
  {
   "cell_type": "code",
   "execution_count": 108,
   "id": "9fba7835",
   "metadata": {},
   "outputs": [
    {
     "name": "stdout",
     "output_type": "stream",
     "text": [
      "found word:cat\n"
     ]
    }
   ],
   "source": [
    "# Please analyse and run the following commands\n",
    "\n",
    "import re\n",
    "str = 'an example word:cat!!'\n",
    "match = re.search(r'word:\\w\\w\\w', str)\n",
    "if match:\n",
    "    print('found', match.group())\n",
    "else:\n",
    "    print('did not find')"
   ]
  },
  {
   "cell_type": "markdown",
   "id": "7061dacc",
   "metadata": {},
   "source": [
    "The code `match = re.search(pat, str)` stores the search result in a\n",
    "variable named `match`. Then the if-statement tests the match -- if true\n",
    "the search succeeded and `match.group()` is the matching text (e.g.\n",
    "'word:cat'). Otherwise if the match is false (None to be more specific),\n",
    "then the search did not succeed, and there is no matching text.\n",
    "\n",
    "The `'r'` at the start of the pattern string designates a python \"raw\" string\n",
    "which passes through backslashes without change which is very handy for regular\n",
    "expressions. I recommend that you always write pattern strings with the `'r'`\n",
    "just as a habit."
   ]
  },
  {
   "cell_type": "markdown",
   "id": "1f7aeb89",
   "metadata": {},
   "source": [
    "Repeat the above commands using the pattern \"I love Python\" as the string and \"I \\w\\w\\w\\w\" as the pattern"
   ]
  },
  {
   "cell_type": "code",
   "execution_count": 117,
   "id": "844461d3",
   "metadata": {},
   "outputs": [
    {
     "name": "stdout",
     "output_type": "stream",
     "text": [
      "found I love\n"
     ]
    }
   ],
   "source": [
    "# Please provide you solution here"
   ]
  },
  {
   "cell_type": "markdown",
   "id": "828c27b5",
   "metadata": {},
   "source": [
    "### Basic Examples\n"
   ]
  },
  {
   "cell_type": "markdown",
   "id": "15872d57",
   "metadata": {},
   "source": [
    "The power of regular expressions is that they can specify patterns, not\n",
    "just fixed characters. Here are the most basic patterns which match\n",
    "single chars:\n",
    "\n",
    "-   `a`, `X`, `9`, `<` -- ordinary characters just match themselves exactly.\n",
    "    The meta-characters which do not match themselves because they have\n",
    "    special meanings are: `. ^ $ * + ? { [ ] \\ | ( )`\n",
    "    (details below)\n",
    "-   `.` (a period) -- matches any single character except newline '\\\\n'\n",
    "-   `\\w` -- (lowercase w) matches a \"word\" character: a letter or digit\n",
    "    or underscore `[a-zA-Z0-9\\_]`. Note that although \"word\" is the\n",
    "    mnemonic for this, it only matches a single word char, not a\n",
    "    whole word. `\\W` (upper case W) matches any non-word character.\n",
    "-   `\\b` -- boundary between word and non-word\n",
    "-   `\\s` -- (lowercase s) matches a single whitespace character -- space,\n",
    "    newline, return, tab, form `[ \\n\\r\\t\\f]`. `\\S` (upper case S)\n",
    "    matches any non-whitespace character.\n",
    "-   `\\t`, `\\n`, `\\r` -- tab, newline, return\n",
    "-   `\\d` -- decimal digit `[0-9]` (some older regex utilities do not\n",
    "    support but `\\d`, but they all support `\\w` and `\\s`)\n",
    "-   `^` = start, `$` = end -- match the start or end of the string\n",
    "-   `\\` -- inhibit the \"specialness\" of a character. So, for example,\n",
    "    use `\\.` to match a period or `\\\\` to match a slash. If you are\n",
    "    unsure if a character has special meaning, such as `@`, you can put\n",
    "    a slash in front of it, `\\@`, to make sure it is treated just as\n",
    "    a character."
   ]
  },
  {
   "cell_type": "markdown",
   "id": "ed7e20ff",
   "metadata": {},
   "source": [
    "The basic rules of regular expression search for a pattern within a\n",
    "string are:\n",
    "\n",
    "-   The search proceeds through the string from start to end, stopping\n",
    "    at the first match found\n",
    "-   All of the pattern must be matched, but not all of the string\n",
    "-   If `match = re.search(pat, str)` is successful, match is not `None`\n",
    "    and in particular `match.group()` is the matching text"
   ]
  },
  {
   "cell_type": "markdown",
   "id": "29599d39",
   "metadata": {},
   "source": [
    "### Leftmost & Largest\n"
   ]
  },
  {
   "cell_type": "markdown",
   "id": "39b3a483",
   "metadata": {},
   "source": [
    "First the search finds the leftmost match for the pattern, and second it\n",
    "tries to use up as much of the string as possible -- i.e. `+` and `*` go as\n",
    "far as possible (the `+` and `*` are said to be \"greedy\"). "
   ]
  },
  {
   "cell_type": "code",
   "execution_count": 131,
   "id": "94c1b6c4",
   "metadata": {},
   "outputs": [
    {
     "name": "stdout",
     "output_type": "stream",
     "text": [
      "<re.Match object; span=(2, 9), match='1 2   3'>\n"
     ]
    }
   ],
   "source": [
    "import re\n",
    "\n",
    "## i+ = one or more i's, as many as possible.\n",
    "#match = re.search(r'pi+', 'piiig')\n",
    "\n",
    "## Finds the first/leftmost solution, and within it drives the +\n",
    "## as far as possible (aka 'leftmost and largest').\n",
    "## In this example, note that it does not get to the second set of i's.\n",
    "\n",
    "# Please uncomment the following command, study and analyse the result\n",
    "#match = re.search(r'i+', 'piigiiii')\n",
    "\n",
    "## \\s* = zero or more whitespace chars\n",
    "## Here look for 3 digits, possibly separated by whitespace.\n",
    "\n",
    "# Please uncomment the following command, study and analyse the result\n",
    "#match = re.search(r'\\d\\s*\\d\\s*\\d', 'xx1 2   3xx')\n",
    "\n",
    "# Please uncomment the following command, study and analyse the result\n",
    "#match = re.search(r'\\d\\s*\\d\\s*\\d', 'xx12  3xx')\n",
    "\n",
    "\n",
    "# Please uncomment the following command, study and analyse the result\n",
    "#match = re.search(r'\\d\\s*\\d\\s*\\d', 'xx123xx')\n",
    "\n",
    "## ^ = matches the start of string, so this fails:\n",
    "\n",
    "# Please uncomment the following command, study and analyse the result\n",
    "#match = re.search(r'^b\\w+', 'foobar')\n",
    "\n",
    "## but without the ^ it succeeds:\n",
    "\n",
    "# Please uncomment the following command, study and analyse the result\n",
    "#match = re.search(r'b\\w+', 'foobar')\n",
    "\n",
    "print(match)"
   ]
  },
  {
   "cell_type": "markdown",
   "id": "e9720e7f",
   "metadata": {},
   "source": [
    "# Emails Example\n",
    "\n",
    "Suppose you want to find the email address inside the string \n",
    "' purple alice-b@google.com monkey dishwasher'. We'll use this as a running example\n",
    "to demonstrate more regular expression features. Here's an attempt using\n",
    "the pattern r'\\\\w+@\\\\w+':"
   ]
  },
  {
   "cell_type": "code",
   "execution_count": 132,
   "id": "f7df4d66",
   "metadata": {
    "scrolled": true
   },
   "outputs": [
    {
     "name": "stdout",
     "output_type": "stream",
     "text": [
      "b@google\n"
     ]
    }
   ],
   "source": [
    "# Please analyse and run the following commands\n",
    "\n",
    "import re\n",
    "str = 'purple alice-b@google.com monkey dishwasher'\n",
    "match = re.search(r'\\w+@\\w+', str)\n",
    "if match:\n",
    "    print(match.group())"
   ]
  },
  {
   "cell_type": "markdown",
   "id": "91d7053e",
   "metadata": {},
   "source": [
    "## Group Extraction"
   ]
  },
  {
   "cell_type": "markdown",
   "id": "e1789d93",
   "metadata": {},
   "source": [
    "The \"group\" feature of a regular expression allows you to pick out parts of the matching text. Suppose for the emails problem that we want to extract the username and host separately. To do this, add parenthesis () around the username and host in the pattern, like this: r'([\\w.-]+)@([\\w.-]+)'. In this case, the parenthesis do not change what the pattern will match, instead they establish logical \"groups\" inside of the match text. On a successful search, match.group(1) is the match text corresponding to the 1st left parenthesis, and match.group(2) is the text corresponding to the 2nd left parenthesis. The plain match.group() is still the whole match text as usual.\n",
    "\n"
   ]
  },
  {
   "cell_type": "code",
   "execution_count": 133,
   "id": "539285e6",
   "metadata": {},
   "outputs": [
    {
     "name": "stdout",
     "output_type": "stream",
     "text": [
      "alice-b@google.com\n",
      "alice-b\n",
      "google.com\n"
     ]
    }
   ],
   "source": [
    "# Please analyse and run the following commands\n",
    "\n",
    "str = 'purple alice-b@google.com monkey dishwasher'\n",
    "match = re.search('([\\w.-]+)@([\\w.-]+)', str)\n",
    "if match:\n",
    "    print(match.group())   ## 'alice-b@google.com' (the whole match)\n",
    "    print(match.group(1))  ## 'alice-b' (the username, group 1)\n",
    "    print(match.group(2))  ## 'google.com' (the host, group 2)"
   ]
  },
  {
   "cell_type": "markdown",
   "id": "ec7d4c4a",
   "metadata": {},
   "source": [
    "A common workflow with regular expressions is that you write a pattern\n",
    "for the thing you are looking for, adding parenthesis groups to extract\n",
    "the parts you want."
   ]
  },
  {
   "cell_type": "markdown",
   "id": "16161022",
   "metadata": {},
   "source": [
    "## findall"
   ]
  },
  {
   "cell_type": "markdown",
   "id": "60c78927",
   "metadata": {},
   "source": [
    "`findall()` is probably the single most powerful function in the `re`\n",
    "module. Above we used `re.search()` to find the first match for a pattern.\n",
    "`findall()` finds *all* the matches and returns them as a list of\n",
    "strings, with each string representing one match."
   ]
  },
  {
   "cell_type": "code",
   "execution_count": 135,
   "id": "126ec556",
   "metadata": {},
   "outputs": [
    {
     "name": "stdout",
     "output_type": "stream",
     "text": [
      "alice@google.com\n",
      "bob@abc.com\n"
     ]
    }
   ],
   "source": [
    "## Suppose we have a text with many email addresses\n",
    "str = 'purple alice@google.com, blah monkey bob@abc.com blah dishwasher'\n",
    "\n",
    "## Here re.findall() returns a list of all the found email strings\n",
    "emails = re.findall(r'[\\w\\.-]+@[\\w\\.-]+', str) ## ['alice@google.com', 'bob@abc.com']\n",
    "for email in emails:\n",
    "    # do something with each found email string\n",
    "    print(email)"
   ]
  }
 ],
 "metadata": {
  "kernelspec": {
   "display_name": "uni",
   "language": "python",
   "name": "python3"
  },
  "language_info": {
   "codemirror_mode": {
    "name": "ipython",
    "version": 3
   },
   "file_extension": ".py",
   "mimetype": "text/x-python",
   "name": "python",
   "nbconvert_exporter": "python",
   "pygments_lexer": "ipython3",
   "version": "3.9.21"
  }
 },
 "nbformat": 4,
 "nbformat_minor": 5
}
